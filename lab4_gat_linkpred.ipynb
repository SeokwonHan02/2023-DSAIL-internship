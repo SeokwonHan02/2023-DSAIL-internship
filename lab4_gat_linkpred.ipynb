{
  "cells": [
    {
      "cell_type": "markdown",
      "metadata": {
        "id": "view-in-github",
        "colab_type": "text"
      },
      "source": [
        "<a href=\"https://colab.research.google.com/github/SeokwonHan02/2023-DSAIL-internship/blob/main/lab4_gat_linkpred.ipynb\" target=\"_parent\"><img src=\"https://colab.research.google.com/assets/colab-badge.svg\" alt=\"Open In Colab\"/></a>"
      ]
    },
    {
      "cell_type": "markdown",
      "metadata": {
        "id": "x8GkL9HYjfCG"
      },
      "source": [
        "# Import Modules"
      ]
    },
    {
      "cell_type": "code",
      "execution_count": null,
      "metadata": {
        "id": "8HetPSPCjj5h"
      },
      "outputs": [],
      "source": [
        "import os\n",
        "import random\n",
        "import numpy as np\n",
        "\n",
        "import torch\n",
        "import torch.nn as nn\n",
        "import torch.nn.functional as F\n",
        "\n",
        "import matplotlib.pyplot as plt\n",
        "from tqdm import tqdm\n",
        "from sklearn.metrics import ConfusionMatrixDisplay\n",
        "from typing import Tuple, List\n",
        "from sklearn.metrics import roc_auc_score"
      ]
    },
    {
      "cell_type": "code",
      "execution_count": null,
      "metadata": {
        "id": "83rYNYRl3_Ag"
      },
      "outputs": [],
      "source": [
        "SEED = 717\n",
        "def set_seed(seed: int) -> None:\n",
        "    random.seed(seed)\n",
        "    np.random.seed(seed)\n",
        "    torch.manual_seed(seed)\n",
        "\n",
        "    if torch.cuda.is_available():\n",
        "        torch.cuda.manual_seed(seed)\n",
        "\n",
        "torch.backends.cudnn.benchmark = True\n",
        "torch.backends.cudnn.deterministic = True\n",
        "torch.use_deterministic_algorithms(True)\n",
        "os.environ['CUBLAS_WORKSPACE_CONFIG'] = ':16:8'\n",
        "set_seed(SEED)"
      ]
    },
    {
      "cell_type": "markdown",
      "metadata": {
        "id": "dyn25gkMjmJI"
      },
      "source": [
        "# Load Dataset"
      ]
    },
    {
      "cell_type": "code",
      "execution_count": null,
      "metadata": {
        "colab": {
          "base_uri": "https://localhost:8080/",
          "height": 77
        },
        "id": "aedESAEsWXBI",
        "outputId": "8ad7d15d-f9d9-4721-e06f-0b809a53da4b"
      },
      "outputs": [
        {
          "output_type": "display_data",
          "data": {
            "text/plain": [
              "<IPython.core.display.HTML object>"
            ],
            "text/html": [
              "\n",
              "     <input type=\"file\" id=\"files-45dbe2c3-23da-47e2-8c72-5ed535492fdc\" name=\"files[]\" multiple disabled\n",
              "        style=\"border:none\" />\n",
              "     <output id=\"result-45dbe2c3-23da-47e2-8c72-5ed535492fdc\">\n",
              "      Upload widget is only available when the cell has been executed in the\n",
              "      current browser session. Please rerun this cell to enable.\n",
              "      </output>\n",
              "      <script>// Copyright 2017 Google LLC\n",
              "//\n",
              "// Licensed under the Apache License, Version 2.0 (the \"License\");\n",
              "// you may not use this file except in compliance with the License.\n",
              "// You may obtain a copy of the License at\n",
              "//\n",
              "//      http://www.apache.org/licenses/LICENSE-2.0\n",
              "//\n",
              "// Unless required by applicable law or agreed to in writing, software\n",
              "// distributed under the License is distributed on an \"AS IS\" BASIS,\n",
              "// WITHOUT WARRANTIES OR CONDITIONS OF ANY KIND, either express or implied.\n",
              "// See the License for the specific language governing permissions and\n",
              "// limitations under the License.\n",
              "\n",
              "/**\n",
              " * @fileoverview Helpers for google.colab Python module.\n",
              " */\n",
              "(function(scope) {\n",
              "function span(text, styleAttributes = {}) {\n",
              "  const element = document.createElement('span');\n",
              "  element.textContent = text;\n",
              "  for (const key of Object.keys(styleAttributes)) {\n",
              "    element.style[key] = styleAttributes[key];\n",
              "  }\n",
              "  return element;\n",
              "}\n",
              "\n",
              "// Max number of bytes which will be uploaded at a time.\n",
              "const MAX_PAYLOAD_SIZE = 100 * 1024;\n",
              "\n",
              "function _uploadFiles(inputId, outputId) {\n",
              "  const steps = uploadFilesStep(inputId, outputId);\n",
              "  const outputElement = document.getElementById(outputId);\n",
              "  // Cache steps on the outputElement to make it available for the next call\n",
              "  // to uploadFilesContinue from Python.\n",
              "  outputElement.steps = steps;\n",
              "\n",
              "  return _uploadFilesContinue(outputId);\n",
              "}\n",
              "\n",
              "// This is roughly an async generator (not supported in the browser yet),\n",
              "// where there are multiple asynchronous steps and the Python side is going\n",
              "// to poll for completion of each step.\n",
              "// This uses a Promise to block the python side on completion of each step,\n",
              "// then passes the result of the previous step as the input to the next step.\n",
              "function _uploadFilesContinue(outputId) {\n",
              "  const outputElement = document.getElementById(outputId);\n",
              "  const steps = outputElement.steps;\n",
              "\n",
              "  const next = steps.next(outputElement.lastPromiseValue);\n",
              "  return Promise.resolve(next.value.promise).then((value) => {\n",
              "    // Cache the last promise value to make it available to the next\n",
              "    // step of the generator.\n",
              "    outputElement.lastPromiseValue = value;\n",
              "    return next.value.response;\n",
              "  });\n",
              "}\n",
              "\n",
              "/**\n",
              " * Generator function which is called between each async step of the upload\n",
              " * process.\n",
              " * @param {string} inputId Element ID of the input file picker element.\n",
              " * @param {string} outputId Element ID of the output display.\n",
              " * @return {!Iterable<!Object>} Iterable of next steps.\n",
              " */\n",
              "function* uploadFilesStep(inputId, outputId) {\n",
              "  const inputElement = document.getElementById(inputId);\n",
              "  inputElement.disabled = false;\n",
              "\n",
              "  const outputElement = document.getElementById(outputId);\n",
              "  outputElement.innerHTML = '';\n",
              "\n",
              "  const pickedPromise = new Promise((resolve) => {\n",
              "    inputElement.addEventListener('change', (e) => {\n",
              "      resolve(e.target.files);\n",
              "    });\n",
              "  });\n",
              "\n",
              "  const cancel = document.createElement('button');\n",
              "  inputElement.parentElement.appendChild(cancel);\n",
              "  cancel.textContent = 'Cancel upload';\n",
              "  const cancelPromise = new Promise((resolve) => {\n",
              "    cancel.onclick = () => {\n",
              "      resolve(null);\n",
              "    };\n",
              "  });\n",
              "\n",
              "  // Wait for the user to pick the files.\n",
              "  const files = yield {\n",
              "    promise: Promise.race([pickedPromise, cancelPromise]),\n",
              "    response: {\n",
              "      action: 'starting',\n",
              "    }\n",
              "  };\n",
              "\n",
              "  cancel.remove();\n",
              "\n",
              "  // Disable the input element since further picks are not allowed.\n",
              "  inputElement.disabled = true;\n",
              "\n",
              "  if (!files) {\n",
              "    return {\n",
              "      response: {\n",
              "        action: 'complete',\n",
              "      }\n",
              "    };\n",
              "  }\n",
              "\n",
              "  for (const file of files) {\n",
              "    const li = document.createElement('li');\n",
              "    li.append(span(file.name, {fontWeight: 'bold'}));\n",
              "    li.append(span(\n",
              "        `(${file.type || 'n/a'}) - ${file.size} bytes, ` +\n",
              "        `last modified: ${\n",
              "            file.lastModifiedDate ? file.lastModifiedDate.toLocaleDateString() :\n",
              "                                    'n/a'} - `));\n",
              "    const percent = span('0% done');\n",
              "    li.appendChild(percent);\n",
              "\n",
              "    outputElement.appendChild(li);\n",
              "\n",
              "    const fileDataPromise = new Promise((resolve) => {\n",
              "      const reader = new FileReader();\n",
              "      reader.onload = (e) => {\n",
              "        resolve(e.target.result);\n",
              "      };\n",
              "      reader.readAsArrayBuffer(file);\n",
              "    });\n",
              "    // Wait for the data to be ready.\n",
              "    let fileData = yield {\n",
              "      promise: fileDataPromise,\n",
              "      response: {\n",
              "        action: 'continue',\n",
              "      }\n",
              "    };\n",
              "\n",
              "    // Use a chunked sending to avoid message size limits. See b/62115660.\n",
              "    let position = 0;\n",
              "    do {\n",
              "      const length = Math.min(fileData.byteLength - position, MAX_PAYLOAD_SIZE);\n",
              "      const chunk = new Uint8Array(fileData, position, length);\n",
              "      position += length;\n",
              "\n",
              "      const base64 = btoa(String.fromCharCode.apply(null, chunk));\n",
              "      yield {\n",
              "        response: {\n",
              "          action: 'append',\n",
              "          file: file.name,\n",
              "          data: base64,\n",
              "        },\n",
              "      };\n",
              "\n",
              "      let percentDone = fileData.byteLength === 0 ?\n",
              "          100 :\n",
              "          Math.round((position / fileData.byteLength) * 100);\n",
              "      percent.textContent = `${percentDone}% done`;\n",
              "\n",
              "    } while (position < fileData.byteLength);\n",
              "  }\n",
              "\n",
              "  // All done.\n",
              "  yield {\n",
              "    response: {\n",
              "      action: 'complete',\n",
              "    }\n",
              "  };\n",
              "}\n",
              "\n",
              "scope.google = scope.google || {};\n",
              "scope.google.colab = scope.google.colab || {};\n",
              "scope.google.colab._files = {\n",
              "  _uploadFiles,\n",
              "  _uploadFilesContinue,\n",
              "};\n",
              "})(self);\n",
              "</script> "
            ]
          },
          "metadata": {}
        },
        {
          "output_type": "stream",
          "name": "stdout",
          "text": [
            "Saving Cora.zip to Cora.zip\n"
          ]
        }
      ],
      "source": [
        "from google.colab import files\n",
        "f = files.upload()"
      ]
    },
    {
      "cell_type": "code",
      "execution_count": null,
      "metadata": {
        "id": "e_VV8AREaR4m",
        "colab": {
          "base_uri": "https://localhost:8080/"
        },
        "outputId": "f9bc90db-238c-40d4-c6c5-8a902aa758d4"
      },
      "outputs": [
        {
          "output_type": "stream",
          "name": "stdout",
          "text": [
            "Archive:  Cora.zip\n",
            "  inflating: Cora/edge.pt            \n",
            "  inflating: Cora/feat.pt            \n",
            "  inflating: Cora/label.pt           \n"
          ]
        }
      ],
      "source": [
        "!unzip Cora.zip"
      ]
    },
    {
      "cell_type": "code",
      "execution_count": null,
      "metadata": {
        "id": "BEenLR0XdWha",
        "colab": {
          "base_uri": "https://localhost:8080/"
        },
        "outputId": "ae16ab9b-b923-423b-80b7-18243025026b"
      },
      "outputs": [
        {
          "output_type": "stream",
          "name": "stdout",
          "text": [
            "Number of Total Nodes :  2708\n",
            "Number of Total Edges :  10556\n",
            "Dimension of Node Features :  2708\n"
          ]
        }
      ],
      "source": [
        "features: torch.Tensor = torch.load('./Cora/feat.pt')\n",
        "edges_raw: torch.Tensor = torch.load('./Cora/edge.pt')\n",
        "labels: torch.Tensor = torch.load('./Cora/label.pt')\n",
        "\n",
        "num_nodes = features.shape[0]\n",
        "\n",
        "features = torch.eye(num_nodes)\n",
        "\n",
        "feat_dim = features.shape[1]\n",
        "num_edges = edges_raw.shape[1]\n",
        "\n",
        "print(\"Number of Total Nodes : \", num_nodes)\n",
        "print(\"Number of Total Edges : \", num_edges)\n",
        "print(\"Dimension of Node Features : \", feat_dim)"
      ]
    },
    {
      "cell_type": "code",
      "source": [
        "indices = torch.randperm(num_edges)\n",
        "edges = edges_raw[:, indices]\n",
        "\n",
        "train_ratio = 0.8\n",
        "val_ratio = 0.1\n",
        "test_ratio = 0.1\n",
        "\n",
        "num_train = int(train_ratio * num_edges)\n",
        "num_val = int(val_ratio * num_edges)\n",
        "num_test = num_edges - num_train - num_val\n",
        "\n",
        "train_edges = edges[:, :num_train]\n",
        "val_edges = edges[:, num_train:num_train + num_val]\n",
        "test_edges = edges[:, num_train + num_val:]\n",
        "\n",
        "print(\"Number of Training Edges: \", train_edges.shape[1])\n",
        "print(\"Number of Validation Edges: \", val_edges.shape[1])\n",
        "print(\"Number of Test Edges: \", test_edges.shape[1])"
      ],
      "metadata": {
        "colab": {
          "base_uri": "https://localhost:8080/"
        },
        "id": "tJiSmYBJpdp1",
        "outputId": "e5b133ed-6492-4c75-f03b-870919cd3180"
      },
      "execution_count": null,
      "outputs": [
        {
          "output_type": "stream",
          "name": "stdout",
          "text": [
            "Number of Training Edges:  8444\n",
            "Number of Validation Edges:  1055\n",
            "Number of Test Edges:  1057\n"
          ]
        }
      ]
    },
    {
      "cell_type": "code",
      "execution_count": null,
      "metadata": {
        "id": "rZ4KLnoquJR2",
        "colab": {
          "base_uri": "https://localhost:8080/"
        },
        "outputId": "53ae2e35-8ab0-47c5-9b6e-4ff63d9643eb"
      },
      "outputs": [
        {
          "output_type": "stream",
          "name": "stdout",
          "text": [
            "Number of Total Edges after adding self-loops:  11152\n"
          ]
        }
      ],
      "source": [
        "def add_self_loops(edges_raw: torch.Tensor, num_nodes: int) -> torch.Tensor:\n",
        "    src, dst = edges_raw\n",
        "    e_mask = ((src-dst) != 0) # src와 dst가 다른 edge만 mask\n",
        "    edges_wo_sloops = edges_raw[:, e_mask] # 위의 mask를 사용하여 src와 dst가 다른 edge만 추출\n",
        "\n",
        "    sloops = torch.arange(num_nodes).repeat(2,1)  # 2 * 2708의 torch 생성\n",
        "    edges = torch.cat((edges_wo_sloops, sloops),1) # concatenate edge\n",
        "    return edges\n",
        "\n",
        "edges = add_self_loops(train_edges, num_nodes)\n",
        "print(\"Number of Total Edges after adding self-loops: \", edges.shape[1])"
      ]
    },
    {
      "cell_type": "markdown",
      "metadata": {
        "id": "eI0MVvqXjsWZ"
      },
      "source": [
        "# Set Hyperparameters"
      ]
    },
    {
      "cell_type": "code",
      "execution_count": null,
      "metadata": {
        "id": "airPdBEB4F24",
        "colab": {
          "base_uri": "https://localhost:8080/"
        },
        "outputId": "eab8b859-2e5a-4e35-92f8-67c9e2e29dbe"
      },
      "outputs": [
        {
          "output_type": "stream",
          "name": "stdout",
          "text": [
            "cuda\n"
          ]
        }
      ],
      "source": [
        "hyperparameters_GAT = {\n",
        "    \"emb_dim\": 8,\n",
        "    \"dropout\": 0.6,\n",
        "    \"alpha\": 0.2,\n",
        "    \"num_heads\": 8,\n",
        "    \"lr\": 0.01,\n",
        "    \"weight_decay\": 5e-4\n",
        "}\n",
        "\n",
        "hyperparameters_GATv2 = {\n",
        "    \"emb_dim\": 8,\n",
        "    \"dropout\": 0.6,\n",
        "    \"alpha\": 0.2,\n",
        "    \"num_heads\": 8,\n",
        "    \"lr\": 0.01,\n",
        "    \"weight_decay\": 5e-4\n",
        "}\n",
        "\n",
        "hyperparameters = {\n",
        "    \"GAT\": hyperparameters_GAT,\n",
        "    \"GATv2\": hyperparameters_GATv2,\n",
        "    \"Training\": {\n",
        "        \"num_epochs\": 200,\n",
        "        \"train_ratio\": 0.8,\n",
        "        \"val_ratio\": 0.1\n",
        "    }\n",
        "}\n",
        "\n",
        "device = torch.device('cuda' if torch.cuda.is_available() else 'cpu')\n",
        "print(device)"
      ]
    },
    {
      "cell_type": "markdown",
      "metadata": {
        "id": "eAlP9xlVmP6n"
      },
      "source": [
        "# Split Indices to train-valid-test"
      ]
    },
    {
      "cell_type": "markdown",
      "metadata": {
        "id": "A_aN_F9_maj0"
      },
      "source": [
        "# Generate GAT Layer"
      ]
    },
    {
      "cell_type": "code",
      "execution_count": null,
      "metadata": {
        "id": "bnFMVE8haU19"
      },
      "outputs": [],
      "source": [
        "class GATLayer(nn.Module):\n",
        "\n",
        "    def __init__(self, in_dim: int,\n",
        "                 out_dim: int,\n",
        "                 activation=lambda x: x,\n",
        "                 dropout: float= 0.5,\n",
        "                 alpha: float= 0.2) -> None:\n",
        "\n",
        "        super(GATLayer, self).__init__()\n",
        "        self.in_dim = in_dim\n",
        "        self.out_dim = out_dim\n",
        "        self.activation = activation\n",
        "        self.dropout = dropout\n",
        "        self.alpha = alpha\n",
        "\n",
        "        self.W = nn.Parameter(torch.empty(size=(in_dim, out_dim)))\n",
        "        nn.init.xavier_uniform_(self.W.data)\n",
        "        self.a = nn.Parameter(torch.empty(size=(2*out_dim, 1)))\n",
        "        nn.init.xavier_uniform_(self.a.data)\n",
        "\n",
        "        self.leakyrelu = nn.LeakyReLU(negative_slope=self.alpha)\n",
        "\n",
        "    def forward(self, feat: torch.Tensor,\n",
        "                edges: torch.Tensor) -> torch.Tensor:\n",
        "        '''\n",
        "            - feat: [num_nodes, in_dim]\n",
        "            - edges: [2, num_edges]\n",
        "            - out: [num_nodes, out_dim]\n",
        "        '''\n",
        "\n",
        "        ########################### Implement Here ###########################\n",
        "        message = feat @ self.W\n",
        "        attn_src = message @ self.a[:self.out_dim, :] # self.a의 first half와 message를 곱함\n",
        "        attn_dst = message @ self.a[self.out_dim:, :] # self.a의 second half와 message를 곱함\n",
        "\n",
        "        src, dst = edges\n",
        "        attn_scores = self.leakyrelu(attn_src[src] + attn_dst[dst]) # 각 edge마다 attn_score 계산\n",
        "        attn_scores = attn_scores - attn_scores.max() # normalize\n",
        "\n",
        "        # torch.zeros에 각 index 별로 해당하는 src의 값을 더함 -> alpha_vu 얻음\n",
        "        exp_sum = torch.zeros((feat.shape[0], 1), device = feat.device).scatter_add_(\n",
        "            dim = 0,\n",
        "            index = dst.unsqueeze(1), # unsqueeze : add extra dimension to make (num_edges,) to (num_edges, 1)\n",
        "            src = attn_scores.exp()\n",
        "        )\n",
        "        attn_coeffs = attn_scores.exp() / exp_sum[dst]\n",
        "        attn_coeffs = F.dropout(attn_coeffs, self.dropout, training = self.training)\n",
        "\n",
        "        # torch,zeros에 attn_coeffs와 message를 곱한 값을 합 하여 h_v^(l) 얻음\n",
        "        out = torch.zeros_like(message, device = feat.device).scatter_add_(\n",
        "            dim = 0,\n",
        "            index = dst.repeat((self.out_dim, 1)).T,\n",
        "            src = message[src] * attn_coeffs\n",
        "        )\n",
        "        out = self.activation(out)\n",
        "\n",
        "        ######################################################################\n",
        "\n",
        "        return out"
      ]
    },
    {
      "cell_type": "code",
      "execution_count": null,
      "metadata": {
        "id": "5kHbgvMK-77v"
      },
      "outputs": [],
      "source": [
        "class GAT(nn.Module):\n",
        "\n",
        "    def __init__(self, feat_dim: int,\n",
        "                 emb_dim: int,\n",
        "                 dropout: float=0.5,\n",
        "                 alpha: float=0.2,\n",
        "                 num_heads: int=8) -> None:\n",
        "\n",
        "        super(GAT, self).__init__()\n",
        "        self.dropout = dropout\n",
        "        self.num_heads = num_heads\n",
        "\n",
        "        self.attn_heads = nn.ModuleList([\n",
        "            GATLayer(feat_dim,\n",
        "                     emb_dim,\n",
        "                     activation = nn.ELU(),\n",
        "                     dropout = dropout,\n",
        "                     alpha = alpha)\n",
        "            for _ in range(num_heads)]) # num_head 개의 GATLayer 생성\n",
        "\n",
        "        self.device = torch.device(\"cuda\" if torch.cuda.is_available() else \"cpu\")\n",
        "        self.to(self.device)\n",
        "\n",
        "    def forward(self, feat: torch.Tensor,\n",
        "                edges: torch.Tensor) -> torch.Tensor:\n",
        "        '''\n",
        "            - feat: [num_nodes, in_dim]\n",
        "            - edges: [2, num_edges]\n",
        "            - out: [num_nodes, num_classes]\n",
        "        '''\n",
        "\n",
        "        ########################### Implement Here ###########################\n",
        "        feat = F.dropout(feat, self.dropout, training = self.training) # elements of input tensor are randomly set to 0\n",
        "        h = torch.cat([att(feat, edges) for att in self.attn_heads], dim = 1) # 각 GAT layer에 feat, edge 넣어줌\n",
        "        out = F.dropout(h, self.dropout, training = self.training)\n",
        "        ######################################################################\n",
        "\n",
        "        return out"
      ]
    },
    {
      "cell_type": "code",
      "source": [
        "def train_one_epoch(model, features, edges, lr = 0.01):\n",
        "  model.train()\n",
        "  optimizer = torch.optim.Adam(model.parameters(), lr = lr)\n",
        "  optimizer.zero_grad()\n",
        "\n",
        "  out = model(features, edges)\n",
        "\n",
        "  pos_src = edges[0, :]\n",
        "  pos_dst = edges[1, :]\n",
        "\n",
        "  pos_scores = torch.sum(out[pos_src] * out[pos_dst], dim=1)\n",
        "  pos_scores = torch.sigmoid(pos_scores)\n",
        "\n",
        "  loss = -torch.log(pos_scores).mean()\n",
        "\n",
        "  loss.backward()\n",
        "  optimizer.step()\n",
        "\n",
        "  return float(loss.cpu())\n",
        "\n",
        "def compute_scores(out, edges):\n",
        "        src = edges[0, :]\n",
        "        dst = edges[1, :]\n",
        "        scores = torch.sum(out[src] * out[dst], dim=1)\n",
        "        return torch.sigmoid(scores).cpu().numpy()\n",
        "\n",
        "def generate_neg_edges(pos_edges, num_nodes, num_neg_edges):\n",
        "    existing_edges = set(tuple(edge) for edge in pos_edges.T)\n",
        "    neg_edges = []\n",
        "\n",
        "    while len(neg_edges) < num_neg_edges:\n",
        "        node1 = np.random.randint(num_nodes)\n",
        "        node2 = np.random.randint(num_nodes)\n",
        "\n",
        "        if (node1, node2) not in existing_edges and (node2, node1) not in existing_edges and node1 != node2:\n",
        "            neg_edges.append((node1, node2))\n",
        "\n",
        "    return np.array(neg_edges).T\n",
        "\n",
        "@torch.no_grad()\n",
        "def test(model, features, train_edges, val_edges, test_edges):\n",
        "    model.eval()\n",
        "    out = model(features, train_edges)\n",
        "\n",
        "    num_nodes = features.shape[0]\n",
        "    num_neg_edges = len(train_edges[0])\n",
        "\n",
        "    train_neg_edges = generate_neg_edges(train_edges, num_nodes, num_neg_edges)\n",
        "    val_neg_edges = generate_neg_edges(np.hstack((train_edges.cpu(), val_edges.cpu())), num_nodes, num_neg_edges)\n",
        "    test_neg_edges = generate_neg_edges(np.hstack((train_edges.cpu(), val_edges.cpu(), test_edges.cpu())), num_nodes, num_neg_edges)\n",
        "\n",
        "    train_pos_scores = compute_scores(out, train_edges)\n",
        "    train_neg_scores = compute_scores(out, train_neg_edges)\n",
        "\n",
        "    val_pos_scores = compute_scores(out, val_edges)\n",
        "    val_neg_scores = compute_scores(out, val_neg_edges)\n",
        "\n",
        "    test_pos_scores = compute_scores(out, test_edges)\n",
        "    test_neg_scores = compute_scores(out, test_neg_edges)\n",
        "\n",
        "    train_labels = np.hstack([np.ones(len(train_pos_scores)), np.zeros(len(train_neg_scores))])\n",
        "    train_scores = np.hstack([train_pos_scores, train_neg_scores])\n",
        "\n",
        "    val_labels = np.hstack([np.ones(len(val_pos_scores)), np.zeros(len(val_neg_scores))])\n",
        "    val_scores = np.hstack([val_pos_scores, val_neg_scores])\n",
        "\n",
        "    test_labels = np.hstack([np.ones(len(test_pos_scores)), np.zeros(len(test_neg_scores))])\n",
        "    test_scores = np.hstack([test_pos_scores, test_neg_scores])\n",
        "\n",
        "    train_auc = roc_auc_score(train_labels, train_scores)\n",
        "    val_auc = roc_auc_score(val_labels, val_scores)\n",
        "    test_auc = roc_auc_score(test_labels, test_scores)\n",
        "\n",
        "    return train_auc, val_auc, test_auc\n",
        "\n",
        "def train(num_epochs, model, features, train_edges, val_edges, test_edges):\n",
        "\n",
        "    best_val_auc = best_test_auc = 0\n",
        "    best_epoch = 0\n",
        "    train_aucs, valid_aucs, test_aucs = [], [], []\n",
        "\n",
        "    with tqdm(range(1, num_epochs + 1), unit=\"epoch\", desc=\"Training\") as pbar:\n",
        "\n",
        "        pbar.clear()\n",
        "        for epoch in pbar:\n",
        "\n",
        "            loss = train_one_epoch(model, features, train_edges)\n",
        "            train_auc, val_auc, test_auc = test(model, features, train_edges, val_edges, test_edges)\n",
        "            train_aucs.append(train_auc)\n",
        "            valid_aucs.append(val_auc)\n",
        "            test_aucs.append(test_auc)\n",
        "\n",
        "            if val_auc > best_val_auc:\n",
        "                best_val_auc = val_auc\n",
        "                best_test_auc = test_auc\n",
        "                best_epoch = epoch\n",
        "                torch.save(model.state_dict(), \"best_model.pt\")\n",
        "\n",
        "            postfix_new = \", \".join([f\"Auc. (Train): {train_auc:.4f}\",\n",
        "                                     f\"Auc. (Val): {val_auc:.4f} (best: {best_val_auc:.4f})\",\n",
        "                                     f\"Auc. (Test): {test_auc:.4f} (best: {best_test_auc:.4f})\",\n",
        "                                     f\"loss: {loss:.4f}\"])\n",
        "            pbar.set_postfix_str(postfix_new)\n",
        "\n",
        "    return best_epoch, best_val_auc, best_test_auc\n"
      ],
      "metadata": {
        "id": "4a_yco7OqxgY"
      },
      "execution_count": null,
      "outputs": []
    },
    {
      "cell_type": "code",
      "source": [
        "set_seed(SEED)\n",
        "\n",
        "model = GAT(feat_dim,\n",
        "            hyperparameters[\"GAT\"][\"emb_dim\"],\n",
        "            hyperparameters[\"GAT\"][\"dropout\"],\n",
        "            hyperparameters[\"GAT\"][\"alpha\"],\n",
        "            hyperparameters[\"GAT\"][\"num_heads\"]).to(device)\n",
        "\n",
        "features = features.to(device)\n",
        "train_edges = train_edges.to(device)\n",
        "val_edges = val_edges.to(device)\n",
        "test_edges = test_edges.to(device)\n",
        "\n",
        "num_epochs = hyperparameters[\"Training\"][\"num_epochs\"]\n",
        "\n",
        "best_epoch, best_val_auc, best_test_aucs = train(num_epochs, model, features, train_edges, val_edges, test_edges)"
      ],
      "metadata": {
        "id": "KSifFW8E_iBi",
        "colab": {
          "base_uri": "https://localhost:8080/"
        },
        "outputId": "f0583a0f-f4f1-44c3-a383-a32eac1b95a1"
      },
      "execution_count": null,
      "outputs": [
        {
          "output_type": "stream",
          "name": "stderr",
          "text": [
            "Training: 100%|██████████| 200/200 [01:20<00:00,  2.50epoch/s, Auc. (Train): 0.8789, Auc. (Val): 0.7893 (best: 0.8209), Auc. (Test): 0.7899 (best: 0.8249), loss: 0.4236]\n"
          ]
        }
      ]
    }
  ],
  "metadata": {
    "accelerator": "GPU",
    "colab": {
      "provenance": [],
      "include_colab_link": true
    },
    "gpuClass": "standard",
    "kernelspec": {
      "display_name": "Python 3",
      "name": "python3"
    },
    "language_info": {
      "codemirror_mode": {
        "name": "ipython",
        "version": 3
      },
      "file_extension": ".py",
      "mimetype": "text/x-python",
      "name": "python",
      "nbconvert_exporter": "python",
      "pygments_lexer": "ipython3",
      "version": "3.8.16"
    }
  },
  "nbformat": 4,
  "nbformat_minor": 0
}