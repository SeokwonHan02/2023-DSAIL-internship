{
  "cells": [
    {
      "cell_type": "markdown",
      "metadata": {
        "id": "view-in-github",
        "colab_type": "text"
      },
      "source": [
        "<a href=\"https://colab.research.google.com/github/SeokwonHan02/2023-DSAIL-internship/blob/main/cs471_bpr_linkpred.ipynb\" target=\"_parent\"><img src=\"https://colab.research.google.com/assets/colab-badge.svg\" alt=\"Open In Colab\"/></a>"
      ]
    },
    {
      "cell_type": "markdown",
      "metadata": {
        "id": "x8GkL9HYjfCG"
      },
      "source": [
        "# Import Modules"
      ]
    },
    {
      "cell_type": "code",
      "execution_count": 4,
      "metadata": {
        "id": "8HetPSPCjj5h"
      },
      "outputs": [],
      "source": [
        "import os\n",
        "import random\n",
        "import numpy as np\n",
        "\n",
        "import torch\n",
        "import torch.nn as nn\n",
        "import torch.nn.functional as F\n",
        "import torch.optim as optim\n",
        "\n",
        "import matplotlib.pyplot as plt\n",
        "from tqdm import tqdm\n",
        "from sklearn.metrics import ConfusionMatrixDisplay\n",
        "from typing import Tuple, List\n",
        "from sklearn.metrics import roc_auc_score\n",
        "from torch.utils.data import DataLoader, TensorDataset"
      ]
    },
    {
      "cell_type": "code",
      "execution_count": 2,
      "metadata": {
        "id": "83rYNYRl3_Ag"
      },
      "outputs": [],
      "source": [
        "SEED = 717\n",
        "def set_seed(seed: int) -> None:\n",
        "    random.seed(seed)\n",
        "    np.random.seed(seed)\n",
        "    torch.manual_seed(seed)\n",
        "\n",
        "    if torch.cuda.is_available():\n",
        "        torch.cuda.manual_seed(seed)\n",
        "\n",
        "torch.backends.cudnn.benchmark = True\n",
        "torch.backends.cudnn.deterministic = True\n",
        "torch.use_deterministic_algorithms(True)\n",
        "os.environ['CUBLAS_WORKSPACE_CONFIG'] = ':16:8'\n",
        "set_seed(SEED)"
      ]
    },
    {
      "cell_type": "markdown",
      "metadata": {
        "id": "dyn25gkMjmJI"
      },
      "source": [
        "# Load Dataset"
      ]
    },
    {
      "cell_type": "code",
      "execution_count": 5,
      "metadata": {
        "colab": {
          "base_uri": "https://localhost:8080/",
          "height": 77
        },
        "id": "aedESAEsWXBI",
        "outputId": "b2b5596f-9938-4597-a322-2a6b9f1798cb"
      },
      "outputs": [
        {
          "output_type": "display_data",
          "data": {
            "text/plain": [
              "<IPython.core.display.HTML object>"
            ],
            "text/html": [
              "\n",
              "     <input type=\"file\" id=\"files-922a4861-3e4e-4d71-990a-893336b217a4\" name=\"files[]\" multiple disabled\n",
              "        style=\"border:none\" />\n",
              "     <output id=\"result-922a4861-3e4e-4d71-990a-893336b217a4\">\n",
              "      Upload widget is only available when the cell has been executed in the\n",
              "      current browser session. Please rerun this cell to enable.\n",
              "      </output>\n",
              "      <script>// Copyright 2017 Google LLC\n",
              "//\n",
              "// Licensed under the Apache License, Version 2.0 (the \"License\");\n",
              "// you may not use this file except in compliance with the License.\n",
              "// You may obtain a copy of the License at\n",
              "//\n",
              "//      http://www.apache.org/licenses/LICENSE-2.0\n",
              "//\n",
              "// Unless required by applicable law or agreed to in writing, software\n",
              "// distributed under the License is distributed on an \"AS IS\" BASIS,\n",
              "// WITHOUT WARRANTIES OR CONDITIONS OF ANY KIND, either express or implied.\n",
              "// See the License for the specific language governing permissions and\n",
              "// limitations under the License.\n",
              "\n",
              "/**\n",
              " * @fileoverview Helpers for google.colab Python module.\n",
              " */\n",
              "(function(scope) {\n",
              "function span(text, styleAttributes = {}) {\n",
              "  const element = document.createElement('span');\n",
              "  element.textContent = text;\n",
              "  for (const key of Object.keys(styleAttributes)) {\n",
              "    element.style[key] = styleAttributes[key];\n",
              "  }\n",
              "  return element;\n",
              "}\n",
              "\n",
              "// Max number of bytes which will be uploaded at a time.\n",
              "const MAX_PAYLOAD_SIZE = 100 * 1024;\n",
              "\n",
              "function _uploadFiles(inputId, outputId) {\n",
              "  const steps = uploadFilesStep(inputId, outputId);\n",
              "  const outputElement = document.getElementById(outputId);\n",
              "  // Cache steps on the outputElement to make it available for the next call\n",
              "  // to uploadFilesContinue from Python.\n",
              "  outputElement.steps = steps;\n",
              "\n",
              "  return _uploadFilesContinue(outputId);\n",
              "}\n",
              "\n",
              "// This is roughly an async generator (not supported in the browser yet),\n",
              "// where there are multiple asynchronous steps and the Python side is going\n",
              "// to poll for completion of each step.\n",
              "// This uses a Promise to block the python side on completion of each step,\n",
              "// then passes the result of the previous step as the input to the next step.\n",
              "function _uploadFilesContinue(outputId) {\n",
              "  const outputElement = document.getElementById(outputId);\n",
              "  const steps = outputElement.steps;\n",
              "\n",
              "  const next = steps.next(outputElement.lastPromiseValue);\n",
              "  return Promise.resolve(next.value.promise).then((value) => {\n",
              "    // Cache the last promise value to make it available to the next\n",
              "    // step of the generator.\n",
              "    outputElement.lastPromiseValue = value;\n",
              "    return next.value.response;\n",
              "  });\n",
              "}\n",
              "\n",
              "/**\n",
              " * Generator function which is called between each async step of the upload\n",
              " * process.\n",
              " * @param {string} inputId Element ID of the input file picker element.\n",
              " * @param {string} outputId Element ID of the output display.\n",
              " * @return {!Iterable<!Object>} Iterable of next steps.\n",
              " */\n",
              "function* uploadFilesStep(inputId, outputId) {\n",
              "  const inputElement = document.getElementById(inputId);\n",
              "  inputElement.disabled = false;\n",
              "\n",
              "  const outputElement = document.getElementById(outputId);\n",
              "  outputElement.innerHTML = '';\n",
              "\n",
              "  const pickedPromise = new Promise((resolve) => {\n",
              "    inputElement.addEventListener('change', (e) => {\n",
              "      resolve(e.target.files);\n",
              "    });\n",
              "  });\n",
              "\n",
              "  const cancel = document.createElement('button');\n",
              "  inputElement.parentElement.appendChild(cancel);\n",
              "  cancel.textContent = 'Cancel upload';\n",
              "  const cancelPromise = new Promise((resolve) => {\n",
              "    cancel.onclick = () => {\n",
              "      resolve(null);\n",
              "    };\n",
              "  });\n",
              "\n",
              "  // Wait for the user to pick the files.\n",
              "  const files = yield {\n",
              "    promise: Promise.race([pickedPromise, cancelPromise]),\n",
              "    response: {\n",
              "      action: 'starting',\n",
              "    }\n",
              "  };\n",
              "\n",
              "  cancel.remove();\n",
              "\n",
              "  // Disable the input element since further picks are not allowed.\n",
              "  inputElement.disabled = true;\n",
              "\n",
              "  if (!files) {\n",
              "    return {\n",
              "      response: {\n",
              "        action: 'complete',\n",
              "      }\n",
              "    };\n",
              "  }\n",
              "\n",
              "  for (const file of files) {\n",
              "    const li = document.createElement('li');\n",
              "    li.append(span(file.name, {fontWeight: 'bold'}));\n",
              "    li.append(span(\n",
              "        `(${file.type || 'n/a'}) - ${file.size} bytes, ` +\n",
              "        `last modified: ${\n",
              "            file.lastModifiedDate ? file.lastModifiedDate.toLocaleDateString() :\n",
              "                                    'n/a'} - `));\n",
              "    const percent = span('0% done');\n",
              "    li.appendChild(percent);\n",
              "\n",
              "    outputElement.appendChild(li);\n",
              "\n",
              "    const fileDataPromise = new Promise((resolve) => {\n",
              "      const reader = new FileReader();\n",
              "      reader.onload = (e) => {\n",
              "        resolve(e.target.result);\n",
              "      };\n",
              "      reader.readAsArrayBuffer(file);\n",
              "    });\n",
              "    // Wait for the data to be ready.\n",
              "    let fileData = yield {\n",
              "      promise: fileDataPromise,\n",
              "      response: {\n",
              "        action: 'continue',\n",
              "      }\n",
              "    };\n",
              "\n",
              "    // Use a chunked sending to avoid message size limits. See b/62115660.\n",
              "    let position = 0;\n",
              "    do {\n",
              "      const length = Math.min(fileData.byteLength - position, MAX_PAYLOAD_SIZE);\n",
              "      const chunk = new Uint8Array(fileData, position, length);\n",
              "      position += length;\n",
              "\n",
              "      const base64 = btoa(String.fromCharCode.apply(null, chunk));\n",
              "      yield {\n",
              "        response: {\n",
              "          action: 'append',\n",
              "          file: file.name,\n",
              "          data: base64,\n",
              "        },\n",
              "      };\n",
              "\n",
              "      let percentDone = fileData.byteLength === 0 ?\n",
              "          100 :\n",
              "          Math.round((position / fileData.byteLength) * 100);\n",
              "      percent.textContent = `${percentDone}% done`;\n",
              "\n",
              "    } while (position < fileData.byteLength);\n",
              "  }\n",
              "\n",
              "  // All done.\n",
              "  yield {\n",
              "    response: {\n",
              "      action: 'complete',\n",
              "    }\n",
              "  };\n",
              "}\n",
              "\n",
              "scope.google = scope.google || {};\n",
              "scope.google.colab = scope.google.colab || {};\n",
              "scope.google.colab._files = {\n",
              "  _uploadFiles,\n",
              "  _uploadFilesContinue,\n",
              "};\n",
              "})(self);\n",
              "</script> "
            ]
          },
          "metadata": {}
        },
        {
          "output_type": "stream",
          "name": "stdout",
          "text": [
            "Saving Cora.zip to Cora.zip\n"
          ]
        }
      ],
      "source": [
        "from google.colab import files\n",
        "f = files.upload()"
      ]
    },
    {
      "cell_type": "code",
      "execution_count": 6,
      "metadata": {
        "colab": {
          "base_uri": "https://localhost:8080/"
        },
        "id": "e_VV8AREaR4m",
        "outputId": "e20eff78-bb2d-4ffa-eb19-6585c2e71a26"
      },
      "outputs": [
        {
          "output_type": "stream",
          "name": "stdout",
          "text": [
            "Archive:  Cora.zip\n",
            "  inflating: Cora/edge.pt            \n",
            "  inflating: Cora/feat.pt            \n",
            "  inflating: Cora/label.pt           \n"
          ]
        }
      ],
      "source": [
        "!unzip Cora.zip"
      ]
    },
    {
      "cell_type": "code",
      "execution_count": 7,
      "metadata": {
        "id": "BEenLR0XdWha",
        "colab": {
          "base_uri": "https://localhost:8080/"
        },
        "outputId": "ab1d29e9-f1b4-4c19-b358-de9f2c8ebd60"
      },
      "outputs": [
        {
          "output_type": "stream",
          "name": "stdout",
          "text": [
            "Number of Total Nodes :  2708\n",
            "Number of Total Edges :  10556\n",
            "Dimension of Node Features :  2708\n",
            "Number of Classes :  7\n"
          ]
        }
      ],
      "source": [
        "# 데이터셋 로드\n",
        "features: torch.Tensor = torch.load('./Cora/feat.pt')\n",
        "edges_raw: torch.Tensor = torch.load('./Cora/edge.pt')\n",
        "labels: torch.Tensor = torch.load('./Cora/label.pt')\n",
        "\n",
        "num_nodes = features.shape[0]\n",
        "\n",
        "features = torch.eye(num_nodes)\n",
        "\n",
        "feat_dim = features.shape[1]\n",
        "num_edges = edges_raw.shape[1]\n",
        "num_classes = labels.max().item()+1\n",
        "\n",
        "print(\"Number of Total Nodes : \", num_nodes)\n",
        "print(\"Number of Total Edges : \", num_edges)\n",
        "print(\"Dimension of Node Features : \", feat_dim)\n",
        "print(\"Number of Classes : \", num_classes)"
      ]
    },
    {
      "cell_type": "code",
      "source": [
        "indices = torch.randperm(num_edges)\n",
        "edges = edges_raw[:, indices]\n",
        "\n",
        "train_ratio = 0.8\n",
        "val_ratio = 0.1\n",
        "test_ratio = 0.1\n",
        "\n",
        "num_train = int(train_ratio * num_edges)\n",
        "num_val = int(val_ratio * num_edges)\n",
        "num_test = num_edges - num_train - num_val\n",
        "\n",
        "train_edges = edges[:, :num_train]\n",
        "val_edges = edges[:, num_train:num_train + num_val]\n",
        "test_edges = edges[:, num_train + num_val:]\n",
        "\n",
        "print(\"Number of Training Edges: \", train_edges.shape[1])\n",
        "print(\"Number of Validation Edges: \", val_edges.shape[1])\n",
        "print(\"Number of Test Edges: \", test_edges.shape[1])"
      ],
      "metadata": {
        "colab": {
          "base_uri": "https://localhost:8080/"
        },
        "id": "sw-p8F5YCGvu",
        "outputId": "227a6d73-ef80-4eae-a8b1-565ef3cebe62"
      },
      "execution_count": 8,
      "outputs": [
        {
          "output_type": "stream",
          "name": "stdout",
          "text": [
            "Number of Training Edges:  8444\n",
            "Number of Validation Edges:  1055\n",
            "Number of Test Edges:  1057\n"
          ]
        }
      ]
    },
    {
      "cell_type": "code",
      "source": [
        "device = torch.device('cuda' if torch.cuda.is_available() else 'cpu')\n",
        "print(device)"
      ],
      "metadata": {
        "colab": {
          "base_uri": "https://localhost:8080/"
        },
        "id": "PZneDzL2CpFU",
        "outputId": "4446eb47-20e5-40c1-85bd-b2fe54154b6b"
      },
      "execution_count": 9,
      "outputs": [
        {
          "output_type": "stream",
          "name": "stdout",
          "text": [
            "cuda\n"
          ]
        }
      ]
    },
    {
      "cell_type": "code",
      "source": [
        "all_node = torch.arange(0, num_nodes)\n",
        "num_neg = 50\n",
        "\n",
        "def triplet(num_node, edges):\n",
        "  D_S = []\n",
        "\n",
        "  for node1 in range(num_node):\n",
        "    pos_sample = edges[0][edges[1] == node1]\n",
        "    mask = ~torch.isin(all_node, pos_sample)\n",
        "    neg_node = all_node[mask]\n",
        "\n",
        "    rand_neg = torch.randperm(neg_node.size(0))[:num_neg]\n",
        "    neg_sample = neg_node[rand_neg]\n",
        "\n",
        "    for pos_node in pos_sample:\n",
        "      for neg_node in neg_sample:\n",
        "        D_S.append([node1, pos_node, neg_node])\n",
        "\n",
        "  return torch.tensor(D_S)\n",
        "\n",
        "D_S = triplet(num_nodes, train_edges)\n",
        "print(D_S.shape)"
      ],
      "metadata": {
        "colab": {
          "base_uri": "https://localhost:8080/"
        },
        "id": "XSSX6WbritNb",
        "outputId": "91cbd065-1681-4cce-9fde-7e178e18dede"
      },
      "execution_count": 10,
      "outputs": [
        {
          "output_type": "stream",
          "name": "stdout",
          "text": [
            "torch.Size([422200, 3])\n"
          ]
        }
      ]
    },
    {
      "cell_type": "code",
      "source": [
        "def dataload(D_S, batch_size):\n",
        "    node = torch.tensor([t[0] for t in D_S])\n",
        "    pos_node = torch.tensor([t[1] for t in D_S])\n",
        "    neg_node = torch.tensor([t[2] for t in D_S])\n",
        "\n",
        "    dataset = TensorDataset(node, pos_node, neg_node)\n",
        "    dataloader = DataLoader(dataset, batch_size=batch_size, shuffle=True)\n",
        "\n",
        "    return dataloader"
      ],
      "metadata": {
        "id": "cnpZTtrUl6x1"
      },
      "execution_count": 11,
      "outputs": []
    },
    {
      "cell_type": "code",
      "source": [
        "data_load = dataload(D_S, 1000)"
      ],
      "metadata": {
        "id": "1ayhDAr6o8P2"
      },
      "execution_count": 12,
      "outputs": []
    },
    {
      "cell_type": "code",
      "execution_count": 22,
      "metadata": {
        "id": "w_3A000p0nfH"
      },
      "outputs": [],
      "source": [
        "# BPR 모델 및 임베딩 학습\n",
        "class BPRModel(nn.Module):\n",
        "    def __init__(self, num_nodes: int, emb_dim: int):\n",
        "        super(BPRModel, self).__init__()\n",
        "        self.embeddings = nn.Embedding(num_nodes, emb_dim)\n",
        "        nn.init.xavier_uniform_(self.embeddings.weight.data)\n",
        "\n",
        "    def forward(self, node_1 : int, node_2 : int):\n",
        "        # 노드 쌍 인덱스에서 임베딩 추출\n",
        "\n",
        "        node_1_embedding = self.embeddings(node_1)\n",
        "        node_2_embedding = self.embeddings(node_2)\n",
        "\n",
        "        prediction = torch.sum(node_1_embedding * node_2_embedding, dim = 1)\n",
        "\n",
        "        return prediction\n",
        "\n",
        "\n",
        "    def bpr_loss(self, node, pos_node, neg_node):\n",
        "        node_embedding = self.embeddings(node)\n",
        "        pos_embedding = self.embeddings(pos_node)\n",
        "        neg_embedding = self.embeddings(neg_node)\n",
        "\n",
        "        pos_scores = torch.sum(node_embedding * pos_embedding, dim=1)\n",
        "        neg_scores = torch.sum(node_embedding * neg_embedding, dim=1)\n",
        "\n",
        "        loss = -torch.mean(torch.log(torch.sigmoid(pos_scores - neg_scores)))\n",
        "\n",
        "        return loss\n",
        "\n",
        "\n",
        "# 훈련 함수에서 부정적인 샘플 생성 부분 수정\n",
        "def train_bpr_model(model, data_load, lr=0.01):\n",
        "    optimizer = optim.Adam(model.parameters(), lr=lr)\n",
        "\n",
        "    model.train()\n",
        "    total_loss = 0.0\n",
        "\n",
        "    for batch in data_load:\n",
        "        node, pos_node, neg_node = batch\n",
        "        node = node.to(device)\n",
        "        pos_node = pos_node.to(device)\n",
        "        neg_node = neg_node.to(device)\n",
        "\n",
        "        optimizer.zero_grad()\n",
        "        loss = model.bpr_loss(node, pos_node, neg_node)\n",
        "        loss.backward()\n",
        "        optimizer.step()\n",
        "\n",
        "        total_loss += loss.item()\n",
        "\n",
        "    return total_loss"
      ]
    },
    {
      "cell_type": "code",
      "source": [
        "def compute_scores(out, edges):\n",
        "        src = edges[0, :]\n",
        "        dst = edges[1, :]\n",
        "        scores = torch.sum(out[src] * out[dst], dim=1)\n",
        "        return torch.sigmoid(scores).cpu().numpy()\n",
        "\n",
        "def generate_neg_edges(pos_edges, num_nodes, num_neg_edges):\n",
        "    existing_edges = set(tuple(edge) for edge in pos_edges.T)\n",
        "    neg_edges = []\n",
        "\n",
        "    while len(neg_edges) < num_neg_edges:\n",
        "        node1 = np.random.randint(num_nodes)\n",
        "        node2 = np.random.randint(num_nodes)\n",
        "\n",
        "        if (node1, node2) not in existing_edges and (node2, node1) not in existing_edges and node1 != node2:\n",
        "            neg_edges.append((node1, node2))\n",
        "\n",
        "    return np.array(neg_edges).T\n",
        "\n",
        "@torch.no_grad()\n",
        "def test(model, features, train_edges, val_edges, test_edges):\n",
        "    model.eval()\n",
        "    out = model.embeddings.weight.data\n",
        "\n",
        "    num_nodes = features.shape[0]\n",
        "    num_neg_edges = len(train_edges[0])\n",
        "\n",
        "    train_neg_edges = generate_neg_edges(train_edges, num_nodes, num_neg_edges)\n",
        "    val_neg_edges = generate_neg_edges(np.hstack((train_edges.cpu(), val_edges.cpu())), num_nodes, num_neg_edges)\n",
        "    test_neg_edges = generate_neg_edges(np.hstack((train_edges.cpu(), val_edges.cpu(), test_edges.cpu())), num_nodes, num_neg_edges)\n",
        "\n",
        "    train_pos_scores = compute_scores(out, train_edges)\n",
        "    train_neg_scores = compute_scores(out, train_neg_edges)\n",
        "\n",
        "    val_pos_scores = compute_scores(out, val_edges)\n",
        "    val_neg_scores = compute_scores(out, val_neg_edges)\n",
        "\n",
        "    test_pos_scores = compute_scores(out, test_edges)\n",
        "    test_neg_scores = compute_scores(out, test_neg_edges)\n",
        "\n",
        "    train_labels = np.hstack([np.ones(len(train_pos_scores)), np.zeros(len(train_neg_scores))])\n",
        "    train_scores = np.hstack([train_pos_scores, train_neg_scores])\n",
        "\n",
        "    val_labels = np.hstack([np.ones(len(val_pos_scores)), np.zeros(len(val_neg_scores))])\n",
        "    val_scores = np.hstack([val_pos_scores, val_neg_scores])\n",
        "\n",
        "    test_labels = np.hstack([np.ones(len(test_pos_scores)), np.zeros(len(test_neg_scores))])\n",
        "    test_scores = np.hstack([test_pos_scores, test_neg_scores])\n",
        "\n",
        "    train_auc = roc_auc_score(train_labels, train_scores)\n",
        "    val_auc = roc_auc_score(val_labels, val_scores)\n",
        "    test_auc = roc_auc_score(test_labels, test_scores)\n",
        "\n",
        "    return train_auc, val_auc, test_auc\n",
        "\n",
        "def train(num_epochs, model, features, train_edges, val_edges, test_edges, data_load):\n",
        "\n",
        "    best_val_auc = best_test_auc = 0\n",
        "    best_epoch = 0\n",
        "    train_aucs, valid_aucs, test_aucs = [], [], []\n",
        "\n",
        "    with tqdm(range(1, num_epochs + 1), unit=\"epoch\", desc=\"Training\") as pbar:\n",
        "        pbar.clear()\n",
        "        for epoch in pbar:\n",
        "            loss = train_bpr_model(model, data_load)  # Train BPRModel for 1 epoch\n",
        "            train_auc, val_auc, test_auc = test(model, features, train_edges, val_edges, test_edges)\n",
        "\n",
        "            train_aucs.append(train_auc)\n",
        "            valid_aucs.append(val_auc)\n",
        "            test_aucs.append(test_auc)\n",
        "\n",
        "            if val_auc > best_val_auc:\n",
        "                best_val_auc = val_auc\n",
        "                best_test_auc = test_auc\n",
        "                best_epoch = epoch\n",
        "                torch.save(model.state_dict(), \"best_model.pt\")\n",
        "\n",
        "            postfix_new = \", \".join([f\"Auc. (Train): {train_auc:.4f}\",\n",
        "                                     f\"Auc. (Val): {val_auc:.4f} (best: {best_val_auc:.4f})\",\n",
        "                                     f\"Auc. (Test): {test_auc:.4f} (best: {best_test_auc:.4f})\",\n",
        "                                     f\"loss: {loss:.4f}\"])\n",
        "            pbar.set_postfix_str(postfix_new)\n",
        "\n",
        "    return best_epoch, best_val_auc, best_test_auc"
      ],
      "metadata": {
        "id": "uYHJtESPExPm"
      },
      "execution_count": 20,
      "outputs": []
    },
    {
      "cell_type": "code",
      "source": [
        "set_seed(SEED)\n",
        "\n",
        "model = BPRModel(num_nodes, 64).to(device)\n",
        "features = features.to(device)\n",
        "train_edges = train_edges.to(device)\n",
        "val_edges = val_edges.to(device)\n",
        "test_edges = test_edges.to(device)\n",
        "\n",
        "num_epochs = 10\n",
        "best_epoch, best_val_auc, best_test_aucs = train(num_epochs, model, features, train_edges, val_edges, test_edges, data_load)"
      ],
      "metadata": {
        "colab": {
          "base_uri": "https://localhost:8080/"
        },
        "id": "9p7VGNDHdc3Z",
        "outputId": "02aac8b6-5ddd-480d-fba2-415746f31017"
      },
      "execution_count": 23,
      "outputs": [
        {
          "output_type": "stream",
          "name": "stderr",
          "text": [
            "Training: 100%|██████████| 10/10 [01:03<00:00,  6.31s/epoch, Auc. (Train): 0.9971, Auc. (Val): 0.9518 (best: 0.9603), Auc. (Test): 0.9642 (best: 0.9686), loss: 0.0375]\n"
          ]
        }
      ]
    }
  ],
  "metadata": {
    "accelerator": "GPU",
    "colab": {
      "provenance": [],
      "include_colab_link": true
    },
    "gpuClass": "standard",
    "kernelspec": {
      "display_name": "Python 3",
      "name": "python3"
    },
    "language_info": {
      "codemirror_mode": {
        "name": "ipython",
        "version": 3
      },
      "file_extension": ".py",
      "mimetype": "text/x-python",
      "name": "python",
      "nbconvert_exporter": "python",
      "pygments_lexer": "ipython3",
      "version": "3.8.16"
    }
  },
  "nbformat": 4,
  "nbformat_minor": 0
}